{
  "nbformat": 4,
  "nbformat_minor": 0,
  "metadata": {
    "colab": {
      "name": "preprocessing.ipynb",
      "provenance": [],
      "collapsed_sections": [],
      "toc_visible": true,
      "authorship_tag": "ABX9TyOzGswYf83rJo8JW4nY9c3K",
      "include_colab_link": true
    },
    "kernelspec": {
      "name": "python3",
      "display_name": "Python 3"
    }
  },
  "cells": [
    {
      "cell_type": "markdown",
      "metadata": {
        "id": "view-in-github",
        "colab_type": "text"
      },
      "source": [
        "<a href=\"https://colab.research.google.com/github/siddharthbharthulwar/CV-COVID/blob/master/preprocessing.ipynb\" target=\"_parent\"><img src=\"https://colab.research.google.com/assets/colab-badge.svg\" alt=\"Open In Colab\"/></a>"
      ]
    },
    {
      "cell_type": "markdown",
      "metadata": {
        "id": "fAe3K7mvMg7o",
        "colab_type": "text"
      },
      "source": [
        "Downloading and Extracting Images from Github"
      ]
    },
    {
      "cell_type": "code",
      "metadata": {
        "id": "EHJKqzi8L5oE",
        "colab_type": "code",
        "outputId": "e314a028-9bdf-4b5d-88fb-7e86b8e320ad",
        "colab": {
          "base_uri": "https://localhost:8080/",
          "height": 151
        }
      },
      "source": [
        "!git clone https://github.com/ieee8023/covid-chestxray-dataset"
      ],
      "execution_count": 5,
      "outputs": [
        {
          "output_type": "stream",
          "text": [
            "Cloning into 'covid-chestxray-dataset'...\n",
            "remote: Enumerating objects: 101, done.\u001b[K\n",
            "remote: Counting objects: 100% (101/101), done.\u001b[K\n",
            "remote: Compressing objects: 100% (87/87), done.\u001b[K\n",
            "remote: Total 958 (delta 43), reused 59 (delta 13), pack-reused 857\u001b[K\n",
            "Receiving objects: 100% (958/958), 177.55 MiB | 38.32 MiB/s, done.\n",
            "Resolving deltas: 100% (428/428), done.\n",
            "Checking out files: 100% (238/238), done.\n"
          ],
          "name": "stdout"
        }
      ]
    },
    {
      "cell_type": "markdown",
      "metadata": {
        "id": "_xwPFQdvM8vI",
        "colab_type": "text"
      },
      "source": [
        "Patient Class for Cohesion Between Radiology Data and Patient Metadata\n"
      ]
    },
    {
      "cell_type": "code",
      "metadata": {
        "id": "obhoCn7RM_2O",
        "colab_type": "code",
        "colab": {}
      },
      "source": [
        "import pandas as pd\n",
        "import cv2 as cv\n",
        "import matplotlib.pyplot as plt\n",
        "\n",
        "class Patient:\n",
        "\n",
        "    def __init__(self, patientID):\n",
        "        \n",
        "        self.patientID = patientID\n",
        "        self.fileNames = []\n",
        "        self.offsets = []\n",
        "        self.dates = []\n",
        "        self.images = []\n",
        "\n",
        "        for index, row in df.iterrows(): \n",
        "\n",
        "            if row['patientid'] == self.patientID:\n",
        "\n",
        "                self.fileNames.append(row['filename'])\n",
        "                self.offsets.append(row['offset'])\n",
        "                self.age = row['age'] \n",
        "                self.finding = row['finding'] #assuming a patient has the same finding for all scans\n",
        "                self.dates.append(row['date']) #assuming chronological order of entries per patient\n",
        "                \n",
        "\n",
        "        for filename in self.fileNames:\n",
        "\n",
        "            img = cv.imread('/content/covid-chestxray-dataset/images/' + filename)\n",
        "            self.images.append(img)\n",
        "\n",
        "    def show(self):\n",
        "\n",
        "      for i in range(0, len(self.images)):\n",
        "\n",
        "          plt.imshow(self.images[i])\n",
        "          plt.title(\"Patient \" + str(self.patientID) + \" on \" + self.dates[i] + \" | Offset = \" + str(self.offsets[i]))\n",
        "          plt.show()\n"
      ],
      "execution_count": 0,
      "outputs": []
    },
    {
      "cell_type": "code",
      "metadata": {
        "id": "hZOIqwsrAQf9",
        "colab_type": "code",
        "colab": {}
      },
      "source": [
        "class Dataset:\n",
        "\n",
        "    def __init__(self):\n",
        "        \n",
        "        self.df = pd.read_csv('/content/covid-chestxray-dataset/metadata.csv')\n",
        "        self.patients = dict.fromkeys(list(set(self.df['finding'])), [])\n",
        "        for i in range(2, self.df['patientid'].max()): #for some reason, dataset starts at patientid 2\n",
        "            patient = Patient(i)\n",
        "            self.patients[patient.finding].append(patient)\n",
        "\n",
        "\n",
        "dataset = Dataset()\n",
        "\n"
      ],
      "execution_count": 0,
      "outputs": []
    },
    {
      "cell_type": "markdown",
      "metadata": {
        "id": "Mc-HXBT-IhtD",
        "colab_type": "text"
      },
      "source": [
        "Data Augmentation"
      ]
    },
    {
      "cell_type": "code",
      "metadata": {
        "id": "mSyXkY97Ig0f",
        "colab_type": "code",
        "colab": {}
      },
      "source": [
        ""
      ],
      "execution_count": 0,
      "outputs": []
    }
  ]
}