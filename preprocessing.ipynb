{
  "nbformat": 4,
  "nbformat_minor": 0,
  "metadata": {
    "colab": {
      "name": "preprocessing.ipynb",
      "provenance": [],
      "collapsed_sections": [],
      "toc_visible": true,
      "authorship_tag": "ABX9TyO19zoFy90DBGUznFIcJvot",
      "include_colab_link": true
    },
    "kernelspec": {
      "name": "python3",
      "display_name": "Python 3"
    }
  },
  "cells": [
    {
      "cell_type": "markdown",
      "metadata": {
        "id": "view-in-github",
        "colab_type": "text"
      },
      "source": [
        "<a href=\"https://colab.research.google.com/github/siddharthbharthulwar/CV-COVID/blob/master/preprocessing.ipynb\" target=\"_parent\"><img src=\"https://colab.research.google.com/assets/colab-badge.svg\" alt=\"Open In Colab\"/></a>"
      ]
    },
    {
      "cell_type": "markdown",
      "metadata": {
        "id": "fAe3K7mvMg7o",
        "colab_type": "text"
      },
      "source": [
        "Downloading and Extracting Images from Github"
      ]
    },
    {
      "cell_type": "code",
      "metadata": {
        "id": "EHJKqzi8L5oE",
        "colab_type": "code",
        "outputId": "d06b52d7-7293-46e8-c1ed-25c66b4ad70b",
        "colab": {
          "base_uri": "https://localhost:8080/",
          "height": 161
        }
      },
      "source": [
        "!git clone https://github.com/ieee8023/covid-chestxray-dataset"
      ],
      "execution_count": 2,
      "outputs": [
        {
          "output_type": "stream",
          "text": [
            "Cloning into 'covid-chestxray-dataset'...\n",
            "remote: Enumerating objects: 170, done.\u001b[K\n",
            "remote: Counting objects: 100% (170/170), done.\u001b[K\n",
            "remote: Compressing objects: 100% (145/145), done.\u001b[K\n",
            "remote: Total 1027 (delta 79), reused 102 (delta 23), pack-reused 857\u001b[K\n",
            "Receiving objects: 100% (1027/1027), 186.06 MiB | 43.96 MiB/s, done.\n",
            "Resolving deltas: 100% (464/464), done.\n",
            "Checking out files: 100% (255/255), done.\n"
          ],
          "name": "stdout"
        }
      ]
    },
    {
      "cell_type": "markdown",
      "metadata": {
        "id": "_xwPFQdvM8vI",
        "colab_type": "text"
      },
      "source": [
        "Patient Class for Cohesion Between Radiology Data and Patient Metadata\n"
      ]
    },
    {
      "cell_type": "code",
      "metadata": {
        "id": "obhoCn7RM_2O",
        "colab_type": "code",
        "colab": {}
      },
      "source": [
        "import pandas as pd\n",
        "import cv2 as cv\n",
        "import matplotlib.pyplot as plt\n",
        "\n",
        "class Patient:\n",
        "\n",
        "    def __init__(self, patientID):\n",
        "        \n",
        "        self.patientID = patientID\n",
        "        self.fileNames = []\n",
        "        self.offsets = []\n",
        "        self.dates = []\n",
        "        self.images = []\n",
        "\n",
        "        for index, row in df.iterrows(): \n",
        "\n",
        "            if row['patientid'] == self.patientID:\n",
        "\n",
        "                self.fileNames.append(row['filename'])\n",
        "                self.offsets.append(row['offset'])\n",
        "                self.age = row['age'] \n",
        "                self.finding = row['finding'] #assuming a patient has the same finding for all scans\n",
        "                self.dates.append(row['date']) #assuming chronological order of entries per patient\n",
        "                \n",
        "\n",
        "        for filename in self.fileNames:\n",
        "\n",
        "            img = cv.imread('/content/covid-chestxray-dataset/images/' + filename)\n",
        "            self.images.append(img)\n",
        "\n",
        "    def show(self):\n",
        "\n",
        "      for i in range(0, len(self.images)):\n",
        "\n",
        "          plt.imshow(self.images[i])\n",
        "          plt.title(\"Patient \" + str(self.patientID) + \" on \" + self.dates[i] + \" | Offset = \" + str(self.offsets[i]))\n",
        "          plt.show()\n"
      ],
      "execution_count": 0,
      "outputs": []
    },
    {
      "cell_type": "code",
      "metadata": {
        "id": "hZOIqwsrAQf9",
        "colab_type": "code",
        "colab": {}
      },
      "source": [
        "class Dataset:\n",
        "\n",
        "    def __init__(self):\n",
        "        \n",
        "        self.df = pd.read_csv('/content/covid-chestxray-dataset/metadata.csv')\n",
        "        self.patients = dict.fromkeys(list(set(self.df['finding'])), [])\n",
        "        for i in range(2, self.df['patientid'].max()): #for some reason, dataset starts at patientid 2\n",
        "            patient = Patient(i)\n",
        "            self.patients[patient.finding].append(patient)\n"
      ],
      "execution_count": 0,
      "outputs": []
    },
    {
      "cell_type": "markdown",
      "metadata": {
        "id": "Mc-HXBT-IhtD",
        "colab_type": "text"
      },
      "source": [
        "Separate Method for Preprocessing (Binary Classifiers Only)"
      ]
    },
    {
      "cell_type": "code",
      "metadata": {
        "id": "mSyXkY97Ig0f",
        "colab_type": "code",
        "colab": {
          "base_uri": "https://localhost:8080/",
          "height": 35
        },
        "outputId": "a33cd426-5756-4efd-c25e-66253bb7efff"
      },
      "source": [
        "import tensorflow as tf\n",
        "\n",
        "class BinaryPreprocessor:\n",
        "\n",
        "    def __init__(self, split): #decimal from 0 to 1 representing percentage of data to go to train dir\n",
        "\n",
        "        self.df = pd.read_csv('/content/covid-chestxray-dataset/metadata.csv')\n",
        "\n",
        "\n",
        "        tf.io.gfile.mkdir('test/covid')\n",
        "        tf.io.gfile.mkdir('train/covid')\n",
        "        tf.io.gfile.mkdir('test/non')\n",
        "        tf.io.gfile.mkdir('train/non')  \n",
        "        \n",
        "        covid = []\n",
        "        noncovid = []\n",
        "\n",
        "        for index, row in self.df.iterrows():\n",
        "\n",
        "            if row['finding'] == 'COVID-19' or row['finding'] == 'COVID-19, ARDS':\n",
        "            \n",
        "                  covid.append(row['filename'])\n",
        "\n",
        "            else:\n",
        "\n",
        "                  noncovid.append(row['filename'])\n",
        "\n",
        "        trainCov = []\n",
        "        testCov = []\n",
        "        trainNon = []\n",
        "        testNon = []\n",
        "\n",
        "        \n",
        "\n",
        "\n",
        "        train = int(split * (len(covid) + len(noncovid)))\n",
        "        test = len(covid) + len(noncovid) - train\n",
        "\n",
        "        print(test, train)\n",
        "\n",
        "b = BinaryPreprocessor(0.99)"
      ],
      "execution_count": 15,
      "outputs": [
        {
          "output_type": "stream",
          "text": [
            "3 262\n"
          ],
          "name": "stdout"
        }
      ]
    }
  ]
}